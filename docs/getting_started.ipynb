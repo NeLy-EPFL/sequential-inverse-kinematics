{
 "cells": [
  {
   "cell_type": "markdown",
   "id": "29ff50db",
   "metadata": {},
   "source": [
    "# Getting started\n",
    "\n",
    "To use SeqIKPy on your own data, first, you need to install the package. You can install the package using pip:\n",
    "\n",
    "```bash\n",
    "pip install seqikpy\n",
    "```\n",
    "\n",
    "Once you have installed the package, you can import the package and use it to analyze your data. This tutorial will show you how to use SeqIKPy on your own data.\n",
    "\n",
    "The following steps are required to use SeqIKPy on your own data:\n",
    "1. Alignment of the 3D pose data (if the data is already aligned, skip this step). \n",
    "2. Inverse kinematics calculation.\n",
    "3. Visualization of the results.\n",
    "\n",
    "Let's start by importing the necessary libraries and loading the data. \n"
   ]
  },
  {
   "cell_type": "code",
   "execution_count": null,
   "id": "faca7fd2",
   "metadata": {
    "ExecuteTime": {
     "end_time": "2024-02-14T14:20:18.521667Z",
     "start_time": "2024-02-14T14:20:16.007575Z"
    }
   },
   "outputs": [],
   "source": [
    "from pathlib import Path\n",
    "import numpy as np\n",
    "import matplotlib.pyplot as plt\n",
    "\n",
    "from seqikpy.data import PTS2ALIGN, NMF_TEMPLATE, INITIAL_ANGLES, BOUNDS\n",
    "from seqikpy.utils import load_file, save_file, calculate_body_size, dict_to_nparray_pose\n",
    "from seqikpy.alignment import AlignPose, convert_from_anipose_to_dict\n",
    "from seqikpy.kinematic_chain import KinematicChainSeq\n",
    "from seqikpy.head_inverse_kinematics import HeadInverseKinematics\n",
    "from seqikpy.leg_inverse_kinematics import LegInvKinSeq\n",
    "from seqikpy.visualization import plot_3d_points, animate_3d_points"
   ]
  },
  {
   "cell_type": "code",
   "execution_count": null,
   "id": "df2a07bf",
   "metadata": {
    "ExecuteTime": {
     "end_time": "2024-02-14T14:20:18.568856Z",
     "start_time": "2024-02-14T14:20:18.528035Z"
    }
   },
   "outputs": [],
   "source": [
    "# Load the data, below contains the kinematics during locomotion\n",
    "path_to_data = Path('...')\n",
    "pose_data = load_file(\n",
    "    path_to_data\n",
    ")"
   ]
  },
  {
   "cell_type": "markdown",
   "id": "ff7e4b02",
   "metadata": {},
   "source": [
    "## Alignment of the 3D pose data\n",
    "\n",
    "The alignment process serves two purposes: \n",
    "1. Transforming the 3D pose data to the biomechanical model's frame of reference.\n",
    "2. (OPTIONAL) Scaling the animal 3D data to match the size of the biomechanical model if the biomechanical model's size is given to the `AlignPose` class. This option is useful if you want to scale all of your data to one body size, or if you want to perform kinematic replay in simulation using the body model. \n",
    "3. Alternatively, the user can provide the experimental animal's body size into the class. In that case, the scaling will ensure that the animal's limb size is the same throughout the trial duration. This will work as a denoising step for the kinematic data.\n",
    "\n",
    "```{note}\n",
    "Note that, the alignment process requires the data to be in a dictionary format with specific key values. \n",
    "* For each leg to calculate the inverse kinematics, the dictionary should contain `<R or L><F or M or H>_leg` as a key value, which consists of an array of (N_frames, key_points=5, axes=3). The key point order should be in from proximal to distal leg segments (i.e., Coxa, Femur, Tibia, Tarsus, Claw).\n",
    "* For the head joint angles, the dictionary should contain `L_head`, `R_head`, `Thorax`. `L_head` and `R_head` contain (N_frames, key_points=3, axes=3) where key points are neck, the base and tip of the antenna. `Thorax` contains (N_frames, key_points=3, axes=3) where key points are the left wing hinge joint, mid thorax, and the right wing hinge joint. \n",
    "```"
   ]
  },
  {
   "cell_type": "markdown",
   "id": "7a9b208f",
   "metadata": {},
   "source": [
    "```{admonition} Option 1: align the kinematics to the body model.\n",
    "This will be useful for the kinematic replay, in which case you can use the following template.\n",
    "\n",
    "```python\n",
    "NMF_TEMPLATE = {\n",
    "    \"RF_Coxa\": np.array([0.33, -0.17, 1.07]),\n",
    "    \"RF_Femur\": np.array([0.33, -0.17, 0.67]),\n",
    "    \"RF_Tibia\": np.array([0.33, -0.17, -0.02]),\n",
    "    \"RF_Tarsus\": np.array([0.33, -0.17, -0.56]),\n",
    "    \"RF_Claw\": np.array([0.33, -0.17, -1.19]),\n",
    "    \"LF_Coxa\": np.array([0.33, 0.17, 1.07]),\n",
    "    \"LF_Femur\": np.array([0.33, 0.17, 0.67]),\n",
    "    \"LF_Tibia\": np.array([0.33, 0.17, -0.02]),\n",
    "    \"LF_Tarsus\": np.array([0.33, 0.17, -0.56]),\n",
    "    \"LF_Claw\": np.array([0.33, 0.17, -1.19]),\n",
    "}\n",
    "align = AlignPose(\n",
    "    pose_data_dict=pose_data,\n",
    "    legs_list=['RF', 'LF'],\n",
    "    include_claw=False,\n",
    "    body_template=NMF_TEMPLATE,\n",
    "    body_size=None,\n",
    "    log_level=\"INFO\"\n",
    ")\n",
    "```\n",
    "\n",
    "```"
   ]
  },
  {
   "cell_type": "markdown",
   "id": "93f9eb53",
   "metadata": {},
   "source": [
    "```{admonition} Option 2: align the kinematics to the body size of the experimental animal\n",
    "    This will be useful for the kinematic analysis.\n",
    "\n",
    "```python\n",
    "# Create yor own template from the recorded 3D kinematics\n",
    "# See `seqikpy.utils` for the functions to calculate the body size\n",
    "EXP_TEMPLATE = {\n",
    "    ....\n",
    "}\n",
    "align = AlignPose(\n",
    "    pose_data_dict=pose_data,\n",
    "    legs_list=['RF', 'LF'],\n",
    "    include_claw=False,\n",
    "    body_size=seqikpy.utils.calculate_body_size(EXP_TEMPLATE, ['RF', 'LF']),\n",
    "    log_level=\"INFO\"\n",
    ")\n",
    "```\n",
    "\n",
    "```"
   ]
  },
  {
   "cell_type": "markdown",
   "id": "0eb8a197",
   "metadata": {},
   "source": [
    "### Calculate the aligned pose"
   ]
  },
  {
   "cell_type": "code",
   "execution_count": null,
   "id": "08932e3a",
   "metadata": {
    "ExecuteTime": {
     "end_time": "2024-02-14T14:33:32.042838Z",
     "start_time": "2024-02-14T14:33:31.995610Z"
    }
   },
   "outputs": [],
   "source": [
    "aligned_pos = align.align_pose(export_path=None)"
   ]
  },
  {
   "cell_type": "markdown",
   "id": "6902f3ac",
   "metadata": {},
   "source": [
    "```{admonition} Option 3: the pose quality is already good enough, no need for the alignment.\n",
    "Then proceed to the next step, inverse kinematics calculation.\n",
    "```"
   ]
  },
  {
   "cell_type": "markdown",
   "id": "209d0f55",
   "metadata": {},
   "source": [
    "\n",
    "## Sequential Inverse Kinematics\n",
    "\n",
    "Below, we will start the inverse kinematics process using `seqikpy`\n",
    "\n",
    "The initial step is to determine the initial seeds for the first time step. While it is not crucial to have good initial seeds, having initial values out of the joint DOF limits will raise an error.\n",
    "\n",
    "Secondly, we need to define some lower and upper limits for the joints. Again, having informative bounds is helpful to prevent singularities in the optimization. For example, Tibia-tarsus pitch joint should not exceed 0 degrees (always negative since the rotation is clockwise). So, it makes sense to assign an upper limit of 0 degrees for this joint.\n",
    "\n",
    "For now, we use the default values imported from `seqikpy.data` module."
   ]
  },
  {
   "cell_type": "code",
   "execution_count": null,
   "id": "af4d459e",
   "metadata": {
    "ExecuteTime": {
     "end_time": "2024-02-14T14:20:18.851995Z",
     "start_time": "2024-02-14T14:20:18.825030Z"
    },
    "scrolled": false
   },
   "outputs": [],
   "source": [
    "# Initialize the necessary classes\n",
    "kin_chain = KinematicChainSeq(\n",
    "    bounds_dof=BOUNDS,\n",
    "    # Put the body size you prefer (biomechenical model or real animal size)\n",
    "    body_size=body_size,\n",
    "    legs_list=['RF', 'LF'],\n",
    ")\n",
    "\n",
    "class_seq_ik = LegInvKinSeq(\n",
    "    # Aligned or loaded pose\n",
    "    aligned_pos=aligned_pos,\n",
    "    kinematic_chain_class=kin_chain,\n",
    "    initial_angles=INITIAL_ANGLES,\n",
    "    log_level=\"INFO\",\n",
    ")"
   ]
  },
  {
   "cell_type": "markdown",
   "id": "a83542a0",
   "metadata": {},
   "source": [
    "The below code will commence the IK process, which consists of four stages per kinematic chain. For more details, please visit the methodology page.\n",
    "\n",
    "After the process is over, `run_ik_and_fk` will save the results in two separete .pkl files:\n",
    "* `leg_joint_angles.pkl` -> pickle file that contains the leg joint angles\n",
    "* `forward_kinematics.pkl` -> 3D position of the legs construction from the calculated leg joint angles, useful for visualization and debugging purposes"
   ]
  },
  {
   "cell_type": "code",
   "execution_count": null,
   "id": "8dbadd57",
   "metadata": {
    "ExecuteTime": {
     "end_time": "2024-02-14T14:22:07.887725Z",
     "start_time": "2024-02-14T14:20:18.854658Z"
    }
   },
   "outputs": [],
   "source": [
    "leg_joint_angles, forward_kinematics = class_seq_ik.run_ik_and_fk(\n",
    "    export_path=data_path,\n",
    "    hide_progress_bar=False\n",
    ")"
   ]
  },
  {
   "cell_type": "markdown",
   "id": "f6287e9f",
   "metadata": {},
   "source": [
    "## 2D visualization of the joint angles"
   ]
  },
  {
   "cell_type": "code",
   "execution_count": null,
   "id": "3d3a1b10",
   "metadata": {
    "ExecuteTime": {
     "end_time": "2024-02-14T14:22:08.251327Z",
     "start_time": "2024-02-14T14:22:07.889599Z"
    }
   },
   "outputs": [],
   "source": [
    "# Let's plot the joint angles for all six legs\n",
    "leg_joint_angle_names = [\n",
    "    \"ThC_yaw\",\n",
    "    \"ThC_pitch\",\n",
    "    \"ThC_roll\",\n",
    "    \"CTr_pitch\",\n",
    "    \"CTr_roll\",\n",
    "    \"FTi_pitch\",\n",
    "    \"TiTa_pitch\",\n",
    "]\n",
    "\n",
    "fig, axs = plt.subplots(1, 2, figsize=(9, 2), dpi=200)\n",
    "\n",
    "axs = axs.flatten()\n",
    "for angle_name in leg_joint_angle_names:\n",
    "    for i, leg_name in enumerate([\"RF\", \"LF\"]):\n",
    "        axs[i].plot(\n",
    "            np.rad2deg(leg_joint_angles[f\"Angle_{leg_name}_{angle_name}\"]),\n",
    "            label=angle_name,\n",
    "            lw=2,\n",
    "        )\n",
    "        axs[i].set_ylabel(leg_name)\n",
    "\n",
    "time_step = 1e-2\n",
    "for ax in axs:\n",
    "    ax.set_xticklabels(np.array(ax.get_xticks() * time_step, dtype='f'))\n",
    "\n",
    "\n",
    "axs[-1].set_xlabel(\"Time (sec)\")\n",
    "axs[-2].set_xlabel(\"Time (sec)\")\n",
    "\n",
    "axs[1].legend(bbox_to_anchor=(1.1, 1), frameon=False)\n",
    "\n",
    "plt.suptitle(\"Leg joint angles (deg)\")\n",
    "plt.tight_layout()\n",
    "\n",
    "# fig.savefig(\"../results/alljoints_follow_ikpy_left.png\", bbox_inches=\"tight\")\n",
    "plt.show()"
   ]
  },
  {
   "cell_type": "markdown",
   "id": "f789df29",
   "metadata": {},
   "source": [
    "## Animation of the target 3D pose and the forward kinematics\n"
   ]
  },
  {
   "cell_type": "code",
   "execution_count": null,
   "id": "bcb981d5",
   "metadata": {
    "ExecuteTime": {
     "start_time": "2024-02-14T14:37:41.445Z"
    }
   },
   "outputs": [],
   "source": [
    "n_frames = 300\n",
    "# change the neck points to an array\n",
    "aligned_pos['Neck'] = np.tile(aligned_pos['Neck'], (n_frames, 1, 1))\n",
    "\n",
    "axim, elev = 90, 0\n",
    "\n",
    "animate_3d_points(\n",
    "    points3d=aligned_pos,\n",
    "    points3d_second=forward_kinematics,\n",
    "    export_path=data_path / f'fk_ik_elev_{elev}_azim_{azim}.mp4',\n",
    "    frame_no=n_frames,\n",
    "    elev=elev,\n",
    "    azim=azim,\n",
    "    fps=100,\n",
    ")"
   ]
  }
 ],
 "metadata": {
  "kernelspec": {
   "display_name": "Python 3 (ipykernel)",
   "language": "python",
   "name": "python3"
  },
  "language_info": {
   "codemirror_mode": {
    "name": "ipython",
    "version": 3
   },
   "file_extension": ".py",
   "mimetype": "text/x-python",
   "name": "python",
   "nbconvert_exporter": "python",
   "pygments_lexer": "ipython3",
   "version": "3.10.2"
  },
  "varInspector": {
   "cols": {
    "lenName": 16,
    "lenType": 16,
    "lenVar": 40
   },
   "kernels_config": {
    "python": {
     "delete_cmd_postfix": "",
     "delete_cmd_prefix": "del ",
     "library": "var_list.py",
     "varRefreshCmd": "print(var_dic_list())"
    },
    "r": {
     "delete_cmd_postfix": ") ",
     "delete_cmd_prefix": "rm(",
     "library": "var_list.r",
     "varRefreshCmd": "cat(var_dic_list()) "
    }
   },
   "types_to_exclude": [
    "module",
    "function",
    "builtin_function_or_method",
    "instance",
    "_Feature"
   ],
   "window_display": false
  }
 },
 "nbformat": 4,
 "nbformat_minor": 5
}
